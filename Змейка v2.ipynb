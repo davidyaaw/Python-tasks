{
 "cells": [
  {
   "cell_type": "code",
   "execution_count": 365,
   "id": "fd2a5d91",
   "metadata": {},
   "outputs": [
    {
     "name": "stdout",
     "output_type": "stream",
     "text": [
      "7\n",
      "+---+---+---+---+---+---+---+\n",
      "| 0 | 0 | 0 | 0 | 0 | 0 | 0 |\n",
      "+---+---+---+---+---+---+---+\n",
      "| 0 | 0 | 0 | 0 | 0 | 0 | 0 |\n",
      "+---+---+---+---+---+---+---+\n",
      "| 0 | 0 | 0 | 0 | 0 | 0 | 0 |\n",
      "+---+---+---+---+---+---+---+\n",
      "| 0 | 0 | 0 | 0 | 0 | 0 | 0 |\n",
      "+---+---+---+---+---+---+---+\n",
      "| 0 | 0 | 0 | 0 | 0 | 0 | 0 |\n",
      "+---+---+---+---+---+---+---+\n",
      "| 0 | 0 | 0 | 0 | 0 | 0 | 0 |\n",
      "+---+---+---+---+---+---+---+\n",
      "| 0 | 0 | 0 | 0 | 0 | 0 | 0 |\n",
      "+---+---+---+---+---+---+---+\n"
     ]
    }
   ],
   "source": [
    "from tabulate import tabulate\n",
    "\n",
    "\n",
    "#Matrix Gen\n",
    "n = int(input())\n",
    "\n",
    "mtx = []\n",
    "for i in range(1,n**2+1):\n",
    "  mtx.append(i)\n",
    "\n",
    "#Result matrix gen filled zeros5\n",
    "\n",
    "a = [[0] * n for _ in range(n)]\n",
    "\n",
    "print(tabulate(a, tablefmt=\"grid\"))"
   ]
  },
  {
   "cell_type": "code",
   "execution_count": 338,
   "id": "e0f1792b",
   "metadata": {},
   "outputs": [
    {
     "name": "stdout",
     "output_type": "stream",
     "text": [
      "Index 0: [1, 2, 3, 4, 5, 6, 7]\n",
      "Index 1: [8, 9, 10, 11, 12]\n",
      "Index 2: [13, 14, 15, 16, 17, 18, 19]\n",
      "Index 3: [20, 21, 22, 23, 24]\n",
      "Index 4: [25, 26, 27, 28, 29]\n",
      "Index 5: [30, 31, 32]\n",
      "Index 6: [33, 34, 35, 36, 37]\n",
      "Index 7: [38, 39, 40]\n",
      "Index 8: [41, 42, 43]\n",
      "Index 9: [44]\n",
      "Index 10: [45, 46, 47]\n",
      "Index 11: [48]\n",
      "Index 12: [49]\n"
     ]
    }
   ],
   "source": [
    "chunks = []\n",
    "k = n\n",
    "croped = mtx\n",
    "ir = 0\n",
    "while len(croped) > 0:\n",
    "    sublist = croped[:k]\n",
    "    chunks.append(sublist)\n",
    "    croped = croped[k:]\n",
    "    if k > 1:\n",
    "        sublist = croped[:k-2]\n",
    "        chunks.append(sublist)\n",
    "        croped = croped[k-2:]\n",
    "        ir += 1\n",
    "#         print('ir', ir)\n",
    "    if ir % 2 == 0:\n",
    "        k -= 2\n",
    "        ir = 2\n",
    "#         print('Сработал срез -k, ir = 2')\n",
    "#     print('k', k)\n",
    "\n",
    "\n",
    "for index, value in enumerate(chunks):\n",
    "    print(f\"Index {index}: {value}\")"
   ]
  },
  {
   "cell_type": "code",
   "execution_count": 339,
   "id": "6bfb322d",
   "metadata": {},
   "outputs": [
    {
     "name": "stdout",
     "output_type": "stream",
     "text": [
      "nechet\n",
      "Nechet : 4  Chet :  3\n"
     ]
    }
   ],
   "source": [
    "#Creating flags\n",
    "\n",
    "if len(a)%2 > 0:\n",
    "    flag = 'nechet'\n",
    "else:\n",
    "    flag = 'chet'\n",
    "print(flag)\n",
    "\n",
    "#Для нечетных матриц  ODD\n",
    "\n",
    "nechet_central_index = len(a)//2 + 1\n",
    "\n",
    "# Для четных матриц EVEN\n",
    "\n",
    "chet_central_index = int(len(a)/2)\n",
    "\n",
    "print('Nechet :',nechet_central_index, ' Chet : ',chet_central_index)"
   ]
  },
  {
   "cell_type": "markdown",
   "id": "9ec94e16",
   "metadata": {},
   "source": [
    "## Верхний треугольник "
   ]
  },
  {
   "cell_type": "code",
   "execution_count": 357,
   "id": "2f44400a",
   "metadata": {},
   "outputs": [
    {
     "name": "stdout",
     "output_type": "stream",
     "text": [
      "No. 1  Index num:  8\n",
      "No. 2  Index num:  12\n",
      "No. 3  Index num:  16\n"
     ]
    }
   ],
   "source": [
    "top = 4\n",
    "a[0] = chunks[0]\n",
    "\n",
    "if flag == 'nechet':\n",
    "    for i in range(1,nechet_central_index):\n",
    "        a[i][i:-i] = chunks[top]\n",
    "        top+=4\n",
    "        print('No.', i,' Index num: ',top)\n",
    "\n",
    "elif flag == 'chet':\n",
    "    for i in range(1,chet_central_index):\n",
    "        a[i][i:-i] = chunks[top]\n",
    "        top+=4\n"
   ]
  },
  {
   "cell_type": "code",
   "execution_count": 358,
   "id": "60c3f0df",
   "metadata": {},
   "outputs": [
    {
     "name": "stdout",
     "output_type": "stream",
     "text": [
      "+----+----+----+----+----+----+---+\n",
      "|  1 |  2 |  3 |  4 |  5 |  6 | 7 |\n",
      "+----+----+----+----+----+----+---+\n",
      "| 24 | 25 | 26 | 27 | 28 | 29 | 0 |\n",
      "+----+----+----+----+----+----+---+\n",
      "| 23 | 40 | 41 | 42 | 43 |  0 | 0 |\n",
      "+----+----+----+----+----+----+---+\n",
      "| 22 | 39 |  0 | 49 |  0 |  0 | 0 |\n",
      "+----+----+----+----+----+----+---+\n",
      "| 21 | 38 |  0 |  0 |  0 |  0 | 0 |\n",
      "+----+----+----+----+----+----+---+\n",
      "| 20 |  0 |  0 |  0 |  0 |  0 | 0 |\n",
      "+----+----+----+----+----+----+---+\n",
      "|  0 |  0 |  0 |  0 |  0 |  0 | 0 |\n",
      "+----+----+----+----+----+----+---+\n"
     ]
    }
   ],
   "source": [
    "print(tabulate(a, tablefmt=\"grid\"))"
   ]
  },
  {
   "cell_type": "markdown",
   "id": "47864eab",
   "metadata": {},
   "source": [
    "## Нижний треугольник "
   ]
  },
  {
   "cell_type": "code",
   "execution_count": 6,
   "id": "dc7a7c3f",
   "metadata": {},
   "outputs": [],
   "source": [
    "# a[-1] = chunks[2][::-1]\n",
    "# a[-2][1:-1] = chunks[6][::-1]\n",
    "# a[-3][2:-2] = chunks[10][::-1]"
   ]
  },
  {
   "cell_type": "code",
   "execution_count": 305,
   "id": "8bda97f5",
   "metadata": {},
   "outputs": [
    {
     "data": {
      "text/plain": [
       "('chet', 4)"
      ]
     },
     "execution_count": 305,
     "metadata": {},
     "output_type": "execute_result"
    }
   ],
   "source": [
    "flag,nechet_central_index"
   ]
  },
  {
   "cell_type": "code",
   "execution_count": 359,
   "id": "c25eaf42",
   "metadata": {},
   "outputs": [
    {
     "name": "stdout",
     "output_type": "stream",
     "text": [
      "No. 2  Index num:  10\n",
      "No. 3  Index num:  14\n"
     ]
    }
   ],
   "source": [
    "bot = 6\n",
    "\n",
    "a[-1] = chunks[2][::-1]\n",
    "\n",
    "if flag == 'nechet':\n",
    "    for i in range(2,nechet_central_index):\n",
    "        a[-i][i-1:-i+1] = chunks[bot][::-1]\n",
    "        bot+=4\n",
    "        print('No.', i,' Index num: ',bot)\n",
    "        \n",
    "elif flag == 'chet':\n",
    "    for i in range(2,chet_central_index+1):\n",
    "        print(i)\n",
    "        a[-i][i-1:-i+1] = chunks[bot][::-1]\n",
    "        bot+=4\n",
    "        print('No.', i,' Index num: ',bot)"
   ]
  },
  {
   "cell_type": "code",
   "execution_count": 360,
   "id": "8e4057e1",
   "metadata": {},
   "outputs": [
    {
     "name": "stdout",
     "output_type": "stream",
     "text": [
      "+----+----+----+----+----+----+----+\n",
      "|  1 |  2 |  3 |  4 |  5 |  6 |  7 |\n",
      "+----+----+----+----+----+----+----+\n",
      "| 24 | 25 | 26 | 27 | 28 | 29 |  0 |\n",
      "+----+----+----+----+----+----+----+\n",
      "| 23 | 40 | 41 | 42 | 43 |  0 |  0 |\n",
      "+----+----+----+----+----+----+----+\n",
      "| 22 | 39 |  0 | 49 |  0 |  0 |  0 |\n",
      "+----+----+----+----+----+----+----+\n",
      "| 21 | 38 | 47 | 46 | 45 |  0 |  0 |\n",
      "+----+----+----+----+----+----+----+\n",
      "| 20 | 37 | 36 | 35 | 34 | 33 |  0 |\n",
      "+----+----+----+----+----+----+----+\n",
      "| 19 | 18 | 17 | 16 | 15 | 14 | 13 |\n",
      "+----+----+----+----+----+----+----+\n"
     ]
    }
   ],
   "source": [
    "print(tabulate(a, tablefmt=\"grid\"))"
   ]
  },
  {
   "cell_type": "markdown",
   "id": "35fb2834",
   "metadata": {},
   "source": [
    "## Правый треугольник "
   ]
  },
  {
   "cell_type": "code",
   "execution_count": 227,
   "id": "0a7dfe95",
   "metadata": {},
   "outputs": [
    {
     "data": {
      "text/plain": [
       "[7, 0, 0, 0, 0, 0, 13]"
      ]
     },
     "execution_count": 227,
     "metadata": {},
     "output_type": "execute_result"
    }
   ],
   "source": [
    "column_index = -1  # Индекс столбца, значения которого нужно вывести\n",
    "\n",
    "column_values = [row[column_index] for row in a]\n",
    "\n",
    "column_values"
   ]
  },
  {
   "cell_type": "code",
   "execution_count": 308,
   "id": "a2f961bd",
   "metadata": {},
   "outputs": [
    {
     "data": {
      "text/plain": [
       "('chet', 4)"
      ]
     },
     "execution_count": 308,
     "metadata": {},
     "output_type": "execute_result"
    }
   ],
   "source": [
    "flag,nechet_central_index"
   ]
  },
  {
   "cell_type": "code",
   "execution_count": 313,
   "id": "8d88c536",
   "metadata": {},
   "outputs": [
    {
     "name": "stdout",
     "output_type": "stream",
     "text": [
      "1\n",
      "2\n",
      "3\n",
      "4\n"
     ]
    }
   ],
   "source": [
    "for i in range(1,len(a)-1):\n",
    "    print(i)"
   ]
  },
  {
   "cell_type": "code",
   "execution_count": 285,
   "id": "7386ce92",
   "metadata": {},
   "outputs": [],
   "source": [
    "# right = 1\n",
    "# column_index = -1\n",
    "\n",
    "# for i in range(1,len(a)-1):\n",
    "#     a[i][column_index] = chunks[right][i-1]"
   ]
  },
  {
   "cell_type": "code",
   "execution_count": 287,
   "id": "fe904bdc",
   "metadata": {},
   "outputs": [],
   "source": [
    "# right = 1\n",
    "# column_index = -2\n",
    "\n",
    "# for i in range(2,len(a)-2):\n",
    "#     a[i][column_index] = chunks[right+4][i-2]"
   ]
  },
  {
   "cell_type": "code",
   "execution_count": 289,
   "id": "b6af437c",
   "metadata": {},
   "outputs": [],
   "source": [
    "# right = 1\n",
    "# column_index = -3\n",
    "\n",
    "# for i in range(3,len(a)-3):\n",
    "#     a[i][column_index] = chunks[right+4+4][i-3]"
   ]
  },
  {
   "cell_type": "code",
   "execution_count": 361,
   "id": "c2963849",
   "metadata": {},
   "outputs": [],
   "source": [
    "right = 1\n",
    "column_index = -1\n",
    "\n",
    "for _ in range(nechet_central_index):\n",
    "    for i in range(column_index*(-1),len(a)+column_index):\n",
    "        a[i][column_index] = chunks[right][i+column_index]\n",
    "    column_index -= 1\n",
    "    right +=4"
   ]
  },
  {
   "cell_type": "code",
   "execution_count": 362,
   "id": "a87fa164",
   "metadata": {},
   "outputs": [
    {
     "name": "stdout",
     "output_type": "stream",
     "text": [
      "+----+----+----+----+----+----+----+\n",
      "|  1 |  2 |  3 |  4 |  5 |  6 |  7 |\n",
      "+----+----+----+----+----+----+----+\n",
      "| 24 | 25 | 26 | 27 | 28 | 29 |  8 |\n",
      "+----+----+----+----+----+----+----+\n",
      "| 23 | 40 | 41 | 42 | 43 | 30 |  9 |\n",
      "+----+----+----+----+----+----+----+\n",
      "| 22 | 39 |  0 | 49 | 44 | 31 | 10 |\n",
      "+----+----+----+----+----+----+----+\n",
      "| 21 | 38 | 47 | 46 | 45 | 32 | 11 |\n",
      "+----+----+----+----+----+----+----+\n",
      "| 20 | 37 | 36 | 35 | 34 | 33 | 12 |\n",
      "+----+----+----+----+----+----+----+\n",
      "| 19 | 18 | 17 | 16 | 15 | 14 | 13 |\n",
      "+----+----+----+----+----+----+----+\n"
     ]
    }
   ],
   "source": [
    "print(tabulate(a, tablefmt=\"grid\"))"
   ]
  },
  {
   "cell_type": "markdown",
   "id": "229fbcef",
   "metadata": {},
   "source": [
    "## Левый треугольник "
   ]
  },
  {
   "cell_type": "code",
   "execution_count": 353,
   "id": "8c5bb94f",
   "metadata": {},
   "outputs": [],
   "source": [
    "# left = 3\n",
    "# column_index = 0\n",
    "\n",
    "# for i in range(1,len(a)-1):\n",
    "#     a[i][column_index] = chunks[left][::-1][i-1]"
   ]
  },
  {
   "cell_type": "code",
   "execution_count": 355,
   "id": "69c290bf",
   "metadata": {},
   "outputs": [],
   "source": [
    "# left = 3\n",
    "# column_index = 1\n",
    "\n",
    "# for i in range(2,len(a)-2):\n",
    "#     a[i][column_index] = chunks[left+4][::-1][i-2]"
   ]
  },
  {
   "cell_type": "code",
   "execution_count": 363,
   "id": "39e8468b",
   "metadata": {},
   "outputs": [],
   "source": [
    "# left = 3\n",
    "# column_index = 2\n",
    "\n",
    "# for i in range(3,len(a)-3):\n",
    "#     a[i][column_index] = chunks[left+4+4][::-1][i-3]"
   ]
  },
  {
   "cell_type": "code",
   "execution_count": 382,
   "id": "547a2474",
   "metadata": {},
   "outputs": [],
   "source": [
    "left = 3\n",
    "column_index = 0\n",
    "c_i = column_index + 1\n",
    "\n",
    "for _ in range(nechet_central_index):\n",
    "    for i in range(c_i,len(a)- c_i):\n",
    "        a[i][column_index] = chunks[left][::-1][i-c_i]\n",
    "    column_index += 1\n",
    "    c_i += 1\n",
    "    left +=4"
   ]
  },
  {
   "cell_type": "code",
   "execution_count": 383,
   "id": "048222b0",
   "metadata": {},
   "outputs": [
    {
     "name": "stdout",
     "output_type": "stream",
     "text": [
      "+----+----+----+---+---+---+---+\n",
      "|  0 |  0 |  0 | 0 | 0 | 0 | 0 |\n",
      "+----+----+----+---+---+---+---+\n",
      "| 24 | 40 |  0 | 0 | 0 | 0 | 0 |\n",
      "+----+----+----+---+---+---+---+\n",
      "| 23 | 40 |  0 | 0 | 0 | 0 | 0 |\n",
      "+----+----+----+---+---+---+---+\n",
      "| 22 | 39 | 48 | 0 | 0 | 0 | 0 |\n",
      "+----+----+----+---+---+---+---+\n",
      "| 21 | 38 |  0 | 0 | 0 | 0 | 0 |\n",
      "+----+----+----+---+---+---+---+\n",
      "| 20 |  0 |  0 | 0 | 0 | 0 | 0 |\n",
      "+----+----+----+---+---+---+---+\n",
      "|  0 |  0 |  0 | 0 | 0 | 0 | 0 |\n",
      "+----+----+----+---+---+---+---+\n"
     ]
    }
   ],
   "source": [
    "print(tabulate(a, tablefmt=\"grid\"))"
   ]
  },
  {
   "cell_type": "code",
   "execution_count": null,
   "id": "004e70c8",
   "metadata": {},
   "outputs": [],
   "source": []
  }
 ],
 "metadata": {
  "kernelspec": {
   "display_name": "Python 3 (ipykernel)",
   "language": "python",
   "name": "python3"
  },
  "language_info": {
   "codemirror_mode": {
    "name": "ipython",
    "version": 3
   },
   "file_extension": ".py",
   "mimetype": "text/x-python",
   "name": "python",
   "nbconvert_exporter": "python",
   "pygments_lexer": "ipython3",
   "version": "3.9.7"
  }
 },
 "nbformat": 4,
 "nbformat_minor": 5
}
