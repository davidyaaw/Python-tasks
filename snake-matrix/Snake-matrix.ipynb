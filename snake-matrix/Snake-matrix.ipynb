{
 "cells": [
  {
   "attachments": {
    "image.png": {
     "image/png": "[encoded data removed]"
    }
   },
   "cell_type": "markdown",
   "id": "65b39fba",
   "metadata": {},
   "source": [
    "![image.png](attachment:image.png)"
   ]
  },
  {
   "cell_type": "code",
   "execution_count": 5,
   "id": "4143820d",
   "metadata": {
    "ExecuteTime": {
     "end_time": "2023-08-01T19:40:53.553472Z",
     "start_time": "2023-08-01T19:40:27.086785Z"
    }
   },
   "outputs": [
    {
     "name": "stdout",
     "output_type": "stream",
     "text": [
      "Collecting tabulate\n",
      "  Downloading tabulate-0.9.0-py3-none-any.whl (35 kB)\n",
      "Installing collected packages: tabulate\n",
      "Successfully installed tabulate-0.9.0\n"
     ]
    }
   ],
   "source": [
    "!pip install tabulate"
   ]
  },
  {
   "cell_type": "markdown",
   "id": "8d3607ac",
   "metadata": {},
   "source": [
    "# Мое решение :"
   ]
  },
  {
   "cell_type": "code",
   "execution_count": 13,
   "id": "08845294",
   "metadata": {
    "ExecuteTime": {
     "end_time": "2023-08-01T19:46:16.806676Z",
     "start_time": "2023-08-01T19:46:16.777052Z"
    }
   },
   "outputs": [],
   "source": [
    "from tabulate import tabulate\n",
    "\n",
    "#Matrix Gen\n",
    "def buildSnake():\n",
    "    n = int(input())\n",
    "\n",
    "    if n == 1:\n",
    "        print(1)\n",
    "    elif n == 0:\n",
    "        print(0)\n",
    "    else:\n",
    "\n",
    "        mtx = []\n",
    "        for i in range(1,n**2+1):\n",
    "          mtx.append(i)\n",
    "\n",
    "        #Result matrix gen filled zeros5\n",
    "\n",
    "        a = [[0] * n for _ in range(n)]\n",
    "\n",
    "        chunks = []\n",
    "        k = n\n",
    "        croped = mtx\n",
    "        ir = 0\n",
    "\n",
    "        while len(croped) > 0:\n",
    "            sublist = croped[:k]\n",
    "            chunks.append(sublist)\n",
    "            croped = croped[k:]\n",
    "            if k > 1:\n",
    "                sublist = croped[:k-2]\n",
    "                chunks.append(sublist)\n",
    "                croped = croped[k-2:]\n",
    "                ir += 1\n",
    "            if ir % 2 == 0:\n",
    "                k -= 2\n",
    "                ir = 2\n",
    "\n",
    "\n",
    "        if len(a)%2 > 0:\n",
    "            flag = 'nechet'\n",
    "        else:\n",
    "            flag = 'chet'\n",
    "\n",
    "        #Для нечетных матриц  ODD\n",
    "\n",
    "        nechet_central_index = len(a)//2 + 1\n",
    "\n",
    "        # Для четных матриц EVEN\n",
    "\n",
    "        chet_central_index = int(len(a)/2)\n",
    "\n",
    "        #Top triangle\n",
    "        top = 4\n",
    "\n",
    "        a[0] = chunks[0]\n",
    "\n",
    "        if flag == 'nechet':\n",
    "            for i in range(1,nechet_central_index):\n",
    "                a[i][i:-i] = chunks[top]\n",
    "                top+=4\n",
    "\n",
    "        elif flag == 'chet':\n",
    "            for i in range(1,chet_central_index):\n",
    "                a[i][i:-i] = chunks[top]\n",
    "                top+=4\n",
    "\n",
    "        #Bot triangle\n",
    "        bot = 6\n",
    "\n",
    "        a[-1] = chunks[2][::-1]\n",
    "\n",
    "        if flag == 'nechet':\n",
    "            for i in range(2,nechet_central_index):\n",
    "                a[-i][i-1:-i+1] = chunks[bot][::-1]\n",
    "                bot+=4\n",
    "\n",
    "        elif flag == 'chet':\n",
    "            for i in range(2,chet_central_index+1):\n",
    "                a[-i][i-1:-i+1] = chunks[bot][::-1]\n",
    "                bot+=4\n",
    "\n",
    "        #Right triangle\n",
    "        right = 1\n",
    "        column_index = -1\n",
    "\n",
    "        for _ in range(nechet_central_index):\n",
    "            for i in range(column_index*(-1),len(a)+column_index):\n",
    "                a[i][column_index] = chunks[right][i+column_index]\n",
    "            column_index -= 1\n",
    "            right +=4\n",
    "\n",
    "        #Left triangle\n",
    "        left = 3\n",
    "        column_index = 0\n",
    "        c_i = column_index + 1\n",
    "\n",
    "        for _ in range(nechet_central_index):\n",
    "            for i in range(c_i,len(a)- c_i):\n",
    "                a[i][column_index] = chunks[left][::-1][i-c_i]\n",
    "            column_index += 1\n",
    "            c_i += 1\n",
    "            left +=4\n",
    "\n",
    "        print(tabulate(a, tablefmt=\"grid\"))\n",
    "\n",
    "#         for row in a:\n",
    "#             print(*row)"
   ]
  },
  {
   "cell_type": "code",
   "execution_count": 14,
   "id": "f215f809",
   "metadata": {
    "ExecuteTime": {
     "end_time": "2023-08-01T19:46:21.249122Z",
     "start_time": "2023-08-01T19:46:19.359332Z"
    }
   },
   "outputs": [
    {
     "name": "stdout",
     "output_type": "stream",
     "text": [
      "7\n",
      "+----+----+----+----+----+----+----+\n",
      "|  1 |  2 |  3 |  4 |  5 |  6 |  7 |\n",
      "+----+----+----+----+----+----+----+\n",
      "| 24 | 25 | 26 | 27 | 28 | 29 |  8 |\n",
      "+----+----+----+----+----+----+----+\n",
      "| 23 | 40 | 41 | 42 | 43 | 30 |  9 |\n",
      "+----+----+----+----+----+----+----+\n",
      "| 22 | 39 | 48 | 49 | 44 | 31 | 10 |\n",
      "+----+----+----+----+----+----+----+\n",
      "| 21 | 38 | 47 | 46 | 45 | 32 | 11 |\n",
      "+----+----+----+----+----+----+----+\n",
      "| 20 | 37 | 36 | 35 | 34 | 33 | 12 |\n",
      "+----+----+----+----+----+----+----+\n",
      "| 19 | 18 | 17 | 16 | 15 | 14 | 13 |\n",
      "+----+----+----+----+----+----+----+\n"
     ]
    }
   ],
   "source": [
    "buildSnake()"
   ]
  },
  {
   "cell_type": "code",
   "execution_count": 15,
   "id": "e6c0eb9d",
   "metadata": {
    "ExecuteTime": {
     "end_time": "2023-08-01T19:46:34.129409Z",
     "start_time": "2023-08-01T19:46:32.439167Z"
    }
   },
   "outputs": [
    {
     "name": "stdout",
     "output_type": "stream",
     "text": [
      "10\n",
      "+----+----+----+----+-----+----+----+----+----+----+\n",
      "|  1 |  2 |  3 |  4 |   5 |  6 |  7 |  8 |  9 | 10 |\n",
      "+----+----+----+----+-----+----+----+----+----+----+\n",
      "| 36 | 37 | 38 | 39 |  40 | 41 | 42 | 43 | 44 | 11 |\n",
      "+----+----+----+----+-----+----+----+----+----+----+\n",
      "| 35 | 64 | 65 | 66 |  67 | 68 | 69 | 70 | 45 | 12 |\n",
      "+----+----+----+----+-----+----+----+----+----+----+\n",
      "| 34 | 63 | 84 | 85 |  86 | 87 | 88 | 71 | 46 | 13 |\n",
      "+----+----+----+----+-----+----+----+----+----+----+\n",
      "| 33 | 62 | 83 | 96 |  97 | 98 | 89 | 72 | 47 | 14 |\n",
      "+----+----+----+----+-----+----+----+----+----+----+\n",
      "| 32 | 61 | 82 | 95 | 100 | 99 | 90 | 73 | 48 | 15 |\n",
      "+----+----+----+----+-----+----+----+----+----+----+\n",
      "| 31 | 60 | 81 | 94 |  93 | 92 | 91 | 74 | 49 | 16 |\n",
      "+----+----+----+----+-----+----+----+----+----+----+\n",
      "| 30 | 59 | 80 | 79 |  78 | 77 | 76 | 75 | 50 | 17 |\n",
      "+----+----+----+----+-----+----+----+----+----+----+\n",
      "| 29 | 58 | 57 | 56 |  55 | 54 | 53 | 52 | 51 | 18 |\n",
      "+----+----+----+----+-----+----+----+----+----+----+\n",
      "| 28 | 27 | 26 | 25 |  24 | 23 | 22 | 21 | 20 | 19 |\n",
      "+----+----+----+----+-----+----+----+----+----+----+\n"
     ]
    }
   ],
   "source": [
    "buildSnake()"
   ]
  },
  {
   "cell_type": "code",
   "execution_count": 16,
   "id": "ffa45c81",
   "metadata": {
    "ExecuteTime": {
     "end_time": "2023-08-01T19:46:55.104944Z",
     "start_time": "2023-08-01T19:46:53.044819Z"
    }
   },
   "outputs": [
    {
     "name": "stdout",
     "output_type": "stream",
     "text": [
      "3\n",
      "+---+---+---+\n",
      "| 1 | 2 | 3 |\n",
      "+---+---+---+\n",
      "| 8 | 9 | 4 |\n",
      "+---+---+---+\n",
      "| 7 | 6 | 5 |\n",
      "+---+---+---+\n"
     ]
    }
   ],
   "source": [
    "buildSnake()"
   ]
  },
  {
   "cell_type": "code",
   "execution_count": 19,
   "id": "ef514085",
   "metadata": {
    "ExecuteTime": {
     "end_time": "2023-08-01T19:47:29.233165Z",
     "start_time": "2023-08-01T19:47:22.814125Z"
    }
   },
   "outputs": [
    {
     "name": "stdout",
     "output_type": "stream",
     "text": [
      "2\n",
      "+---+---+\n",
      "| 1 | 2 |\n",
      "+---+---+\n",
      "| 4 | 3 |\n",
      "+---+---+\n"
     ]
    }
   ],
   "source": [
    "buildSnake()"
   ]
  },
  {
   "cell_type": "code",
   "execution_count": 20,
   "id": "9492cb22",
   "metadata": {
    "ExecuteTime": {
     "end_time": "2023-08-01T19:47:40.040994Z",
     "start_time": "2023-08-01T19:47:38.942260Z"
    }
   },
   "outputs": [
    {
     "name": "stdout",
     "output_type": "stream",
     "text": [
      "4\n",
      "+----+----+----+---+\n",
      "|  1 |  2 |  3 | 4 |\n",
      "+----+----+----+---+\n",
      "| 12 | 13 | 14 | 5 |\n",
      "+----+----+----+---+\n",
      "| 11 | 16 | 15 | 6 |\n",
      "+----+----+----+---+\n",
      "| 10 |  9 |  8 | 7 |\n",
      "+----+----+----+---+\n"
     ]
    }
   ],
   "source": [
    "buildSnake()"
   ]
  },
  {
   "cell_type": "code",
   "execution_count": 21,
   "id": "00c51e59",
   "metadata": {
    "ExecuteTime": {
     "end_time": "2023-08-01T19:47:46.713681Z",
     "start_time": "2023-08-01T19:47:45.487022Z"
    }
   },
   "outputs": [
    {
     "name": "stdout",
     "output_type": "stream",
     "text": [
      "5\n",
      "+----+----+----+----+---+\n",
      "|  1 |  2 |  3 |  4 | 5 |\n",
      "+----+----+----+----+---+\n",
      "| 16 | 17 | 18 | 19 | 6 |\n",
      "+----+----+----+----+---+\n",
      "| 15 | 24 | 25 | 20 | 7 |\n",
      "+----+----+----+----+---+\n",
      "| 14 | 23 | 22 | 21 | 8 |\n",
      "+----+----+----+----+---+\n",
      "| 13 | 12 | 11 | 10 | 9 |\n",
      "+----+----+----+----+---+\n"
     ]
    }
   ],
   "source": [
    "buildSnake()"
   ]
  },
  {
   "cell_type": "markdown",
   "id": "426c382d",
   "metadata": {},
   "source": [
    "# Изящное решение :"
   ]
  },
  {
   "cell_type": "code",
   "execution_count": 8,
   "id": "064cc474",
   "metadata": {
    "ExecuteTime": {
     "end_time": "2023-08-01T19:41:11.153541Z",
     "start_time": "2023-08-01T19:41:06.991351Z"
    }
   },
   "outputs": [
    {
     "name": "stdout",
     "output_type": "stream",
     "text": [
      "10\n",
      "1 2 3 4 5 6 7 8 9 10\n",
      "36 37 38 39 40 41 42 43 44 11\n",
      "35 64 65 66 67 68 69 70 45 12\n",
      "34 63 84 85 86 87 88 71 46 13\n",
      "33 62 83 96 97 98 89 72 47 14\n",
      "32 61 82 95 100 99 90 73 48 15\n",
      "31 60 81 94 93 92 91 74 49 16\n",
      "30 59 80 79 78 77 76 75 50 17\n",
      "29 58 57 56 55 54 53 52 51 18\n",
      "28 27 26 25 24 23 22 21 20 19\n"
     ]
    }
   ],
   "source": [
    "n=int(input())\n",
    "t=[[0]*n for i in range (n)]\n",
    "i,j=0,0\n",
    "for k in range(1, n*n+1):\n",
    "  t[i][j]=k\n",
    "  if k==n*n: break\n",
    "  if i<=j+1 and i+j<n-1: j+=1\n",
    "  elif i<j and i+j>=n-1: i+=1\n",
    "  elif i>=j and i+j>n-1: j-=1\n",
    "  elif i>j+1 and i+j<=n-1: i-=1\n",
    "for i in range(n):\n",
    "  print(*t[i])"
   ]
  }
 ],
 "metadata": {
  "kernelspec": {
   "display_name": "Python 3 (ipykernel)",
   "language": "python",
   "name": "python3"
  },
  "language_info": {
   "codemirror_mode": {
    "name": "ipython",
    "version": 3
   },
   "file_extension": ".py",
   "mimetype": "text/x-python",
   "name": "python",
   "nbconvert_exporter": "python",
   "pygments_lexer": "ipython3",
   "version": "3.10.12"
  },
  "toc": {
   "base_numbering": 1,
   "nav_menu": {},
   "number_sections": true,
   "sideBar": true,
   "skip_h1_title": false,
   "title_cell": "Table of Contents",
   "title_sidebar": "Contents",
   "toc_cell": false,
   "toc_position": {},
   "toc_section_display": true,
   "toc_window_display": false
  }
 },
 "nbformat": 4,
 "nbformat_minor": 5
}
