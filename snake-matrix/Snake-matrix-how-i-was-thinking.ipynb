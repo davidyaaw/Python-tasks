{
 "cells": [
  {
   "attachments": {
    "image.png": {
     "image/png": "[encoded data removed]"
    }
   },
   "cell_type": "markdown",
   "id": "deff1678",
   "metadata": {},
   "source": [
    "![image.png](attachment:image.png)"
   ]
  },
  {
   "cell_type": "code",
   "execution_count": 1,
   "id": "fd2a5d91",
   "metadata": {
    "ExecuteTime": {
     "end_time": "2023-08-01T19:49:46.327437Z",
     "start_time": "2023-08-01T19:49:43.041694Z"
    }
   },
   "outputs": [
    {
     "name": "stdout",
     "output_type": "stream",
     "text": [
      "10\n",
      "+---+---+---+---+---+---+---+---+---+---+\n",
      "| 0 | 0 | 0 | 0 | 0 | 0 | 0 | 0 | 0 | 0 |\n",
      "+---+---+---+---+---+---+---+---+---+---+\n",
      "| 0 | 0 | 0 | 0 | 0 | 0 | 0 | 0 | 0 | 0 |\n",
      "+---+---+---+---+---+---+---+---+---+---+\n",
      "| 0 | 0 | 0 | 0 | 0 | 0 | 0 | 0 | 0 | 0 |\n",
      "+---+---+---+---+---+---+---+---+---+---+\n",
      "| 0 | 0 | 0 | 0 | 0 | 0 | 0 | 0 | 0 | 0 |\n",
      "+---+---+---+---+---+---+---+---+---+---+\n",
      "| 0 | 0 | 0 | 0 | 0 | 0 | 0 | 0 | 0 | 0 |\n",
      "+---+---+---+---+---+---+---+---+---+---+\n",
      "| 0 | 0 | 0 | 0 | 0 | 0 | 0 | 0 | 0 | 0 |\n",
      "+---+---+---+---+---+---+---+---+---+---+\n",
      "| 0 | 0 | 0 | 0 | 0 | 0 | 0 | 0 | 0 | 0 |\n",
      "+---+---+---+---+---+---+---+---+---+---+\n",
      "| 0 | 0 | 0 | 0 | 0 | 0 | 0 | 0 | 0 | 0 |\n",
      "+---+---+---+---+---+---+---+---+---+---+\n",
      "| 0 | 0 | 0 | 0 | 0 | 0 | 0 | 0 | 0 | 0 |\n",
      "+---+---+---+---+---+---+---+---+---+---+\n",
      "| 0 | 0 | 0 | 0 | 0 | 0 | 0 | 0 | 0 | 0 |\n",
      "+---+---+---+---+---+---+---+---+---+---+\n"
     ]
    }
   ],
   "source": [
    "from tabulate import tabulate\n",
    "\n",
    "\n",
    "#Matrix Gen\n",
    "n = int(input())\n",
    "\n",
    "mtx = []\n",
    "for i in range(1,n**2+1):\n",
    "  mtx.append(i)\n",
    "\n",
    "#Result matrix gen filled zeros5\n",
    "\n",
    "a = [[0] * n for _ in range(n)]\n",
    "\n",
    "print(tabulate(a, tablefmt=\"grid\"))"
   ]
  },
  {
   "cell_type": "code",
   "execution_count": 2,
   "id": "e0f1792b",
   "metadata": {
    "ExecuteTime": {
     "end_time": "2023-08-01T19:49:46.337807Z",
     "start_time": "2023-08-01T19:49:46.327437Z"
    }
   },
   "outputs": [
    {
     "name": "stdout",
     "output_type": "stream",
     "text": [
      "Index 0: [1, 2, 3, 4, 5, 6, 7, 8, 9, 10]\n",
      "Index 1: [11, 12, 13, 14, 15, 16, 17, 18]\n",
      "Index 2: [19, 20, 21, 22, 23, 24, 25, 26, 27, 28]\n",
      "Index 3: [29, 30, 31, 32, 33, 34, 35, 36]\n",
      "Index 4: [37, 38, 39, 40, 41, 42, 43, 44]\n",
      "Index 5: [45, 46, 47, 48, 49, 50]\n",
      "Index 6: [51, 52, 53, 54, 55, 56, 57, 58]\n",
      "Index 7: [59, 60, 61, 62, 63, 64]\n",
      "Index 8: [65, 66, 67, 68, 69, 70]\n",
      "Index 9: [71, 72, 73, 74]\n",
      "Index 10: [75, 76, 77, 78, 79, 80]\n",
      "Index 11: [81, 82, 83, 84]\n",
      "Index 12: [85, 86, 87, 88]\n",
      "Index 13: [89, 90]\n",
      "Index 14: [91, 92, 93, 94]\n",
      "Index 15: [95, 96]\n",
      "Index 16: [97, 98]\n",
      "Index 17: []\n",
      "Index 18: [99, 100]\n",
      "Index 19: []\n"
     ]
    }
   ],
   "source": [
    "chunks = []\n",
    "k = n\n",
    "croped = mtx\n",
    "ir = 0\n",
    "while len(croped) > 0:\n",
    "    sublist = croped[:k]\n",
    "    chunks.append(sublist)\n",
    "    croped = croped[k:]\n",
    "    if k > 1:\n",
    "        sublist = croped[:k-2]\n",
    "        chunks.append(sublist)\n",
    "        croped = croped[k-2:]\n",
    "        ir += 1\n",
    "#         print('ir', ir)\n",
    "    if ir % 2 == 0:\n",
    "        k -= 2\n",
    "        ir = 2\n",
    "#         print('Сработал срез -k, ir = 2')\n",
    "#     print('k', k)\n",
    "\n",
    "\n",
    "for index, value in enumerate(chunks):\n",
    "    print(f\"Index {index}: {value}\")"
   ]
  },
  {
   "cell_type": "code",
   "execution_count": 3,
   "id": "6bfb322d",
   "metadata": {
    "ExecuteTime": {
     "end_time": "2023-08-01T19:49:46.353428Z",
     "start_time": "2023-08-01T19:49:46.337807Z"
    }
   },
   "outputs": [
    {
     "name": "stdout",
     "output_type": "stream",
     "text": [
      "chet\n",
      "Nechet : 6  Chet :  5\n"
     ]
    }
   ],
   "source": [
    "#Creating flags\n",
    "\n",
    "if len(a)%2 > 0:\n",
    "    flag = 'nechet'\n",
    "else:\n",
    "    flag = 'chet'\n",
    "print(flag)\n",
    "\n",
    "#Для нечетных матриц  ODD\n",
    "\n",
    "nechet_central_index = len(a)//2 + 1\n",
    "\n",
    "# Для четных матриц EVEN\n",
    "\n",
    "chet_central_index = int(len(a)/2)\n",
    "\n",
    "print('Nechet :',nechet_central_index, ' Chet : ',chet_central_index)"
   ]
  },
  {
   "cell_type": "markdown",
   "id": "9ec94e16",
   "metadata": {},
   "source": [
    "## Верхний треугольник "
   ]
  },
  {
   "cell_type": "code",
   "execution_count": 4,
   "id": "2f44400a",
   "metadata": {
    "ExecuteTime": {
     "end_time": "2023-08-01T19:49:46.370122Z",
     "start_time": "2023-08-01T19:49:46.354501Z"
    }
   },
   "outputs": [],
   "source": [
    "top = 4\n",
    "a[0] = chunks[0]\n",
    "\n",
    "if flag == 'nechet':\n",
    "    for i in range(1,nechet_central_index):\n",
    "        a[i][i:-i] = chunks[top]\n",
    "        top+=4\n",
    "        print('No.', i,' Index num: ',top)\n",
    "\n",
    "elif flag == 'chet':\n",
    "    for i in range(1,chet_central_index):\n",
    "        a[i][i:-i] = chunks[top]\n",
    "        top+=4\n"
   ]
  },
  {
   "cell_type": "code",
   "execution_count": 5,
   "id": "60c3f0df",
   "metadata": {
    "ExecuteTime": {
     "end_time": "2023-08-01T19:49:46.387043Z",
     "start_time": "2023-08-01T19:49:46.371330Z"
    }
   },
   "outputs": [
    {
     "name": "stdout",
     "output_type": "stream",
     "text": [
      "+---+----+----+----+----+----+----+----+----+----+\n",
      "| 1 |  2 |  3 |  4 |  5 |  6 |  7 |  8 |  9 | 10 |\n",
      "+---+----+----+----+----+----+----+----+----+----+\n",
      "| 0 | 37 | 38 | 39 | 40 | 41 | 42 | 43 | 44 |  0 |\n",
      "+---+----+----+----+----+----+----+----+----+----+\n",
      "| 0 |  0 | 65 | 66 | 67 | 68 | 69 | 70 |  0 |  0 |\n",
      "+---+----+----+----+----+----+----+----+----+----+\n",
      "| 0 |  0 |  0 | 85 | 86 | 87 | 88 |  0 |  0 |  0 |\n",
      "+---+----+----+----+----+----+----+----+----+----+\n",
      "| 0 |  0 |  0 |  0 | 97 | 98 |  0 |  0 |  0 |  0 |\n",
      "+---+----+----+----+----+----+----+----+----+----+\n",
      "| 0 |  0 |  0 |  0 |  0 |  0 |  0 |  0 |  0 |  0 |\n",
      "+---+----+----+----+----+----+----+----+----+----+\n",
      "| 0 |  0 |  0 |  0 |  0 |  0 |  0 |  0 |  0 |  0 |\n",
      "+---+----+----+----+----+----+----+----+----+----+\n",
      "| 0 |  0 |  0 |  0 |  0 |  0 |  0 |  0 |  0 |  0 |\n",
      "+---+----+----+----+----+----+----+----+----+----+\n",
      "| 0 |  0 |  0 |  0 |  0 |  0 |  0 |  0 |  0 |  0 |\n",
      "+---+----+----+----+----+----+----+----+----+----+\n",
      "| 0 |  0 |  0 |  0 |  0 |  0 |  0 |  0 |  0 |  0 |\n",
      "+---+----+----+----+----+----+----+----+----+----+\n"
     ]
    }
   ],
   "source": [
    "print(tabulate(a, tablefmt=\"grid\"))"
   ]
  },
  {
   "cell_type": "markdown",
   "id": "47864eab",
   "metadata": {},
   "source": [
    "## Нижний треугольник "
   ]
  },
  {
   "cell_type": "code",
   "execution_count": 6,
   "id": "dc7a7c3f",
   "metadata": {
    "ExecuteTime": {
     "end_time": "2023-08-01T19:49:46.403527Z",
     "start_time": "2023-08-01T19:49:46.387814Z"
    }
   },
   "outputs": [],
   "source": [
    "# a[-1] = chunks[2][::-1]\n",
    "# a[-2][1:-1] = chunks[6][::-1]\n",
    "# a[-3][2:-2] = chunks[10][::-1]"
   ]
  },
  {
   "cell_type": "code",
   "execution_count": 7,
   "id": "8bda97f5",
   "metadata": {
    "ExecuteTime": {
     "end_time": "2023-08-01T19:49:46.420242Z",
     "start_time": "2023-08-01T19:49:46.404530Z"
    }
   },
   "outputs": [
    {
     "data": {
      "text/plain": [
       "('chet', 6)"
      ]
     },
     "execution_count": 7,
     "metadata": {},
     "output_type": "execute_result"
    }
   ],
   "source": [
    "flag,nechet_central_index"
   ]
  },
  {
   "cell_type": "code",
   "execution_count": 8,
   "id": "c25eaf42",
   "metadata": {
    "ExecuteTime": {
     "end_time": "2023-08-01T19:49:46.437136Z",
     "start_time": "2023-08-01T19:49:46.421422Z"
    }
   },
   "outputs": [
    {
     "name": "stdout",
     "output_type": "stream",
     "text": [
      "2\n",
      "No. 2  Index num:  10\n",
      "3\n",
      "No. 3  Index num:  14\n",
      "4\n",
      "No. 4  Index num:  18\n",
      "5\n",
      "No. 5  Index num:  22\n"
     ]
    }
   ],
   "source": [
    "bot = 6\n",
    "\n",
    "a[-1] = chunks[2][::-1]\n",
    "\n",
    "if flag == 'nechet':\n",
    "    for i in range(2,nechet_central_index):\n",
    "        a[-i][i-1:-i+1] = chunks[bot][::-1]\n",
    "        bot+=4\n",
    "        print('No.', i,' Index num: ',bot)\n",
    "        \n",
    "elif flag == 'chet':\n",
    "    for i in range(2,chet_central_index+1):\n",
    "        print(i)\n",
    "        a[-i][i-1:-i+1] = chunks[bot][::-1]\n",
    "        bot+=4\n",
    "        print('No.', i,' Index num: ',bot)"
   ]
  },
  {
   "cell_type": "code",
   "execution_count": 9,
   "id": "8e4057e1",
   "metadata": {
    "ExecuteTime": {
     "end_time": "2023-08-01T19:49:46.453652Z",
     "start_time": "2023-08-01T19:49:46.437940Z"
    }
   },
   "outputs": [
    {
     "name": "stdout",
     "output_type": "stream",
     "text": [
      "+----+----+----+----+-----+----+----+----+----+----+\n",
      "|  1 |  2 |  3 |  4 |   5 |  6 |  7 |  8 |  9 | 10 |\n",
      "+----+----+----+----+-----+----+----+----+----+----+\n",
      "|  0 | 37 | 38 | 39 |  40 | 41 | 42 | 43 | 44 |  0 |\n",
      "+----+----+----+----+-----+----+----+----+----+----+\n",
      "|  0 |  0 | 65 | 66 |  67 | 68 | 69 | 70 |  0 |  0 |\n",
      "+----+----+----+----+-----+----+----+----+----+----+\n",
      "|  0 |  0 |  0 | 85 |  86 | 87 | 88 |  0 |  0 |  0 |\n",
      "+----+----+----+----+-----+----+----+----+----+----+\n",
      "|  0 |  0 |  0 |  0 |  97 | 98 |  0 |  0 |  0 |  0 |\n",
      "+----+----+----+----+-----+----+----+----+----+----+\n",
      "|  0 |  0 |  0 |  0 | 100 | 99 |  0 |  0 |  0 |  0 |\n",
      "+----+----+----+----+-----+----+----+----+----+----+\n",
      "|  0 |  0 |  0 | 94 |  93 | 92 | 91 |  0 |  0 |  0 |\n",
      "+----+----+----+----+-----+----+----+----+----+----+\n",
      "|  0 |  0 | 80 | 79 |  78 | 77 | 76 | 75 |  0 |  0 |\n",
      "+----+----+----+----+-----+----+----+----+----+----+\n",
      "|  0 | 58 | 57 | 56 |  55 | 54 | 53 | 52 | 51 |  0 |\n",
      "+----+----+----+----+-----+----+----+----+----+----+\n",
      "| 28 | 27 | 26 | 25 |  24 | 23 | 22 | 21 | 20 | 19 |\n",
      "+----+----+----+----+-----+----+----+----+----+----+\n"
     ]
    }
   ],
   "source": [
    "print(tabulate(a, tablefmt=\"grid\"))"
   ]
  },
  {
   "cell_type": "markdown",
   "id": "35fb2834",
   "metadata": {},
   "source": [
    "## Правый треугольник "
   ]
  },
  {
   "cell_type": "code",
   "execution_count": 10,
   "id": "0a7dfe95",
   "metadata": {
    "ExecuteTime": {
     "end_time": "2023-08-01T19:49:46.470301Z",
     "start_time": "2023-08-01T19:49:46.454586Z"
    }
   },
   "outputs": [
    {
     "data": {
      "text/plain": [
       "[10, 0, 0, 0, 0, 0, 0, 0, 0, 19]"
      ]
     },
     "execution_count": 10,
     "metadata": {},
     "output_type": "execute_result"
    }
   ],
   "source": [
    "column_index = -1  # Индекс столбца, значения которого нужно вывести\n",
    "\n",
    "column_values = [row[column_index] for row in a]\n",
    "\n",
    "column_values"
   ]
  },
  {
   "cell_type": "code",
   "execution_count": 11,
   "id": "a2f961bd",
   "metadata": {
    "ExecuteTime": {
     "end_time": "2023-08-01T19:49:46.487362Z",
     "start_time": "2023-08-01T19:49:46.471726Z"
    }
   },
   "outputs": [
    {
     "data": {
      "text/plain": [
       "('chet', 6)"
      ]
     },
     "execution_count": 11,
     "metadata": {},
     "output_type": "execute_result"
    }
   ],
   "source": [
    "flag,nechet_central_index"
   ]
  },
  {
   "cell_type": "code",
   "execution_count": 13,
   "id": "7386ce92",
   "metadata": {
    "ExecuteTime": {
     "end_time": "2023-08-01T19:49:46.520689Z",
     "start_time": "2023-08-01T19:49:46.505040Z"
    }
   },
   "outputs": [],
   "source": [
    "# right = 1\n",
    "# column_index = -1\n",
    "\n",
    "# for i in range(1,len(a)-1):\n",
    "#     a[i][column_index] = chunks[right][i-1]"
   ]
  },
  {
   "cell_type": "code",
   "execution_count": 14,
   "id": "fe904bdc",
   "metadata": {
    "ExecuteTime": {
     "end_time": "2023-08-01T19:49:46.537473Z",
     "start_time": "2023-08-01T19:49:46.521851Z"
    }
   },
   "outputs": [],
   "source": [
    "# right = 1\n",
    "# column_index = -2\n",
    "\n",
    "# for i in range(2,len(a)-2):\n",
    "#     a[i][column_index] = chunks[right+4][i-2]"
   ]
  },
  {
   "cell_type": "code",
   "execution_count": 15,
   "id": "b6af437c",
   "metadata": {
    "ExecuteTime": {
     "end_time": "2023-08-01T19:49:46.554072Z",
     "start_time": "2023-08-01T19:49:46.538450Z"
    }
   },
   "outputs": [],
   "source": [
    "# right = 1\n",
    "# column_index = -3\n",
    "\n",
    "# for i in range(3,len(a)-3):\n",
    "#     a[i][column_index] = chunks[right+4+4][i-3]"
   ]
  },
  {
   "cell_type": "code",
   "execution_count": 16,
   "id": "c2963849",
   "metadata": {
    "ExecuteTime": {
     "end_time": "2023-08-01T19:49:46.571443Z",
     "start_time": "2023-08-01T19:49:46.557022Z"
    }
   },
   "outputs": [],
   "source": [
    "right = 1\n",
    "column_index = -1\n",
    "\n",
    "for _ in range(nechet_central_index):\n",
    "    for i in range(column_index*(-1),len(a)+column_index):\n",
    "        a[i][column_index] = chunks[right][i+column_index]\n",
    "    column_index -= 1\n",
    "    right +=4"
   ]
  },
  {
   "cell_type": "code",
   "execution_count": 17,
   "id": "a87fa164",
   "metadata": {
    "ExecuteTime": {
     "end_time": "2023-08-01T19:49:46.586587Z",
     "start_time": "2023-08-01T19:49:46.573437Z"
    }
   },
   "outputs": [
    {
     "name": "stdout",
     "output_type": "stream",
     "text": [
      "+----+----+----+----+-----+----+----+----+----+----+\n",
      "|  1 |  2 |  3 |  4 |   5 |  6 |  7 |  8 |  9 | 10 |\n",
      "+----+----+----+----+-----+----+----+----+----+----+\n",
      "|  0 | 37 | 38 | 39 |  40 | 41 | 42 | 43 | 44 | 11 |\n",
      "+----+----+----+----+-----+----+----+----+----+----+\n",
      "|  0 |  0 | 65 | 66 |  67 | 68 | 69 | 70 | 45 | 12 |\n",
      "+----+----+----+----+-----+----+----+----+----+----+\n",
      "|  0 |  0 |  0 | 85 |  86 | 87 | 88 | 71 | 46 | 13 |\n",
      "+----+----+----+----+-----+----+----+----+----+----+\n",
      "|  0 |  0 |  0 |  0 |  97 | 98 | 89 | 72 | 47 | 14 |\n",
      "+----+----+----+----+-----+----+----+----+----+----+\n",
      "|  0 |  0 |  0 |  0 | 100 | 99 | 90 | 73 | 48 | 15 |\n",
      "+----+----+----+----+-----+----+----+----+----+----+\n",
      "|  0 |  0 |  0 | 94 |  93 | 92 | 91 | 74 | 49 | 16 |\n",
      "+----+----+----+----+-----+----+----+----+----+----+\n",
      "|  0 |  0 | 80 | 79 |  78 | 77 | 76 | 75 | 50 | 17 |\n",
      "+----+----+----+----+-----+----+----+----+----+----+\n",
      "|  0 | 58 | 57 | 56 |  55 | 54 | 53 | 52 | 51 | 18 |\n",
      "+----+----+----+----+-----+----+----+----+----+----+\n",
      "| 28 | 27 | 26 | 25 |  24 | 23 | 22 | 21 | 20 | 19 |\n",
      "+----+----+----+----+-----+----+----+----+----+----+\n"
     ]
    }
   ],
   "source": [
    "print(tabulate(a, tablefmt=\"grid\"))"
   ]
  },
  {
   "cell_type": "markdown",
   "id": "229fbcef",
   "metadata": {},
   "source": [
    "## Левый треугольник "
   ]
  },
  {
   "cell_type": "code",
   "execution_count": 18,
   "id": "8c5bb94f",
   "metadata": {
    "ExecuteTime": {
     "end_time": "2023-08-01T19:49:46.603676Z",
     "start_time": "2023-08-01T19:49:46.587963Z"
    }
   },
   "outputs": [],
   "source": [
    "# left = 3\n",
    "# column_index = 0\n",
    "\n",
    "# for i in range(1,len(a)-1):\n",
    "#     a[i][column_index] = chunks[left][::-1][i-1]"
   ]
  },
  {
   "cell_type": "code",
   "execution_count": 19,
   "id": "69c290bf",
   "metadata": {
    "ExecuteTime": {
     "end_time": "2023-08-01T19:49:46.620415Z",
     "start_time": "2023-08-01T19:49:46.604704Z"
    }
   },
   "outputs": [],
   "source": [
    "# left = 3\n",
    "# column_index = 1\n",
    "\n",
    "# for i in range(2,len(a)-2):\n",
    "#     a[i][column_index] = chunks[left+4][::-1][i-2]"
   ]
  },
  {
   "cell_type": "code",
   "execution_count": 20,
   "id": "39e8468b",
   "metadata": {
    "ExecuteTime": {
     "end_time": "2023-08-01T19:49:46.637007Z",
     "start_time": "2023-08-01T19:49:46.621294Z"
    }
   },
   "outputs": [],
   "source": [
    "# left = 3\n",
    "# column_index = 2\n",
    "\n",
    "# for i in range(3,len(a)-3):\n",
    "#     a[i][column_index] = chunks[left+4+4][::-1][i-3]"
   ]
  },
  {
   "cell_type": "code",
   "execution_count": 21,
   "id": "547a2474",
   "metadata": {
    "ExecuteTime": {
     "end_time": "2023-08-01T19:49:46.653700Z",
     "start_time": "2023-08-01T19:49:46.637984Z"
    }
   },
   "outputs": [],
   "source": [
    "left = 3\n",
    "column_index = 0\n",
    "c_i = column_index + 1\n",
    "\n",
    "for _ in range(nechet_central_index):\n",
    "    for i in range(c_i,len(a)- c_i):\n",
    "        a[i][column_index] = chunks[left][::-1][i-c_i]\n",
    "    column_index += 1\n",
    "    c_i += 1\n",
    "    left +=4"
   ]
  },
  {
   "cell_type": "code",
   "execution_count": 22,
   "id": "048222b0",
   "metadata": {
    "ExecuteTime": {
     "end_time": "2023-08-01T19:49:46.670415Z",
     "start_time": "2023-08-01T19:49:46.654703Z"
    }
   },
   "outputs": [
    {
     "name": "stdout",
     "output_type": "stream",
     "text": [
      "+----+----+----+----+-----+----+----+----+----+----+\n",
      "|  1 |  2 |  3 |  4 |   5 |  6 |  7 |  8 |  9 | 10 |\n",
      "+----+----+----+----+-----+----+----+----+----+----+\n",
      "| 36 | 37 | 38 | 39 |  40 | 41 | 42 | 43 | 44 | 11 |\n",
      "+----+----+----+----+-----+----+----+----+----+----+\n",
      "| 35 | 64 | 65 | 66 |  67 | 68 | 69 | 70 | 45 | 12 |\n",
      "+----+----+----+----+-----+----+----+----+----+----+\n",
      "| 34 | 63 | 84 | 85 |  86 | 87 | 88 | 71 | 46 | 13 |\n",
      "+----+----+----+----+-----+----+----+----+----+----+\n",
      "| 33 | 62 | 83 | 96 |  97 | 98 | 89 | 72 | 47 | 14 |\n",
      "+----+----+----+----+-----+----+----+----+----+----+\n",
      "| 32 | 61 | 82 | 95 | 100 | 99 | 90 | 73 | 48 | 15 |\n",
      "+----+----+----+----+-----+----+----+----+----+----+\n",
      "| 31 | 60 | 81 | 94 |  93 | 92 | 91 | 74 | 49 | 16 |\n",
      "+----+----+----+----+-----+----+----+----+----+----+\n",
      "| 30 | 59 | 80 | 79 |  78 | 77 | 76 | 75 | 50 | 17 |\n",
      "+----+----+----+----+-----+----+----+----+----+----+\n",
      "| 29 | 58 | 57 | 56 |  55 | 54 | 53 | 52 | 51 | 18 |\n",
      "+----+----+----+----+-----+----+----+----+----+----+\n",
      "| 28 | 27 | 26 | 25 |  24 | 23 | 22 | 21 | 20 | 19 |\n",
      "+----+----+----+----+-----+----+----+----+----+----+\n"
     ]
    }
   ],
   "source": [
    "print(tabulate(a, tablefmt=\"grid\"))"
   ]
  },
  {
   "cell_type": "code",
   "execution_count": null,
   "id": "004e70c8",
   "metadata": {},
   "outputs": [],
   "source": []
  }
 ],
 "metadata": {
  "kernelspec": {
   "display_name": "Python 3 (ipykernel)",
   "language": "python",
   "name": "python3"
  },
  "language_info": {
   "codemirror_mode": {
    "name": "ipython",
    "version": 3
   },
   "file_extension": ".py",
   "mimetype": "text/x-python",
   "name": "python",
   "nbconvert_exporter": "python",
   "pygments_lexer": "ipython3",
   "version": "3.10.12"
  },
  "toc": {
   "base_numbering": 1,
   "nav_menu": {},
   "number_sections": true,
   "sideBar": true,
   "skip_h1_title": false,
   "title_cell": "Table of Contents",
   "title_sidebar": "Contents",
   "toc_cell": false,
   "toc_position": {},
   "toc_section_display": true,
   "toc_window_display": false
  }
 },
 "nbformat": 4,
 "nbformat_minor": 5
}
