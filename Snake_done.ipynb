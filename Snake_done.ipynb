{
 "cells": [
  {
   "cell_type": "code",
   "execution_count": 25,
   "id": "08845294",
   "metadata": {},
   "outputs": [
    {
     "name": "stdout",
     "output_type": "stream",
     "text": [
      "0\n",
      "0\n"
     ]
    }
   ],
   "source": [
    "# from tabulate import tabulate\n",
    "\n",
    "#Matrix Gen\n",
    "\n",
    "n = int(input())\n",
    "\n",
    "if n == 1:\n",
    "    print(1)\n",
    "elif n == 0:\n",
    "    print(0)\n",
    "else:\n",
    "\n",
    "    mtx = []\n",
    "    for i in range(1,n**2+1):\n",
    "      mtx.append(i)\n",
    "\n",
    "    #Result matrix gen filled zeros5\n",
    "\n",
    "    a = [[0] * n for _ in range(n)]\n",
    "\n",
    "    chunks = []\n",
    "    k = n\n",
    "    croped = mtx\n",
    "    ir = 0\n",
    "\n",
    "    while len(croped) > 0:\n",
    "        sublist = croped[:k]\n",
    "        chunks.append(sublist)\n",
    "        croped = croped[k:]\n",
    "        if k > 1:\n",
    "            sublist = croped[:k-2]\n",
    "            chunks.append(sublist)\n",
    "            croped = croped[k-2:]\n",
    "            ir += 1\n",
    "        if ir % 2 == 0:\n",
    "            k -= 2\n",
    "            ir = 2\n",
    "\n",
    "\n",
    "    if len(a)%2 > 0:\n",
    "        flag = 'nechet'\n",
    "    else:\n",
    "        flag = 'chet'\n",
    "\n",
    "    #Для нечетных матриц  ODD\n",
    "\n",
    "    nechet_central_index = len(a)//2 + 1\n",
    "\n",
    "    # Для четных матриц EVEN\n",
    "\n",
    "    chet_central_index = int(len(a)/2)\n",
    "\n",
    "    #Top triangle\n",
    "    top = 4\n",
    "\n",
    "    a[0] = chunks[0]\n",
    "\n",
    "    if flag == 'nechet':\n",
    "        for i in range(1,nechet_central_index):\n",
    "            a[i][i:-i] = chunks[top]\n",
    "            top+=4\n",
    "\n",
    "    elif flag == 'chet':\n",
    "        for i in range(1,chet_central_index):\n",
    "            a[i][i:-i] = chunks[top]\n",
    "            top+=4\n",
    "\n",
    "    #Bot triangle\n",
    "    bot = 6\n",
    "\n",
    "    a[-1] = chunks[2][::-1]\n",
    "\n",
    "    if flag == 'nechet':\n",
    "        for i in range(2,nechet_central_index):\n",
    "            a[-i][i-1:-i+1] = chunks[bot][::-1]\n",
    "            bot+=4\n",
    "\n",
    "    elif flag == 'chet':\n",
    "        for i in range(2,chet_central_index+1):\n",
    "            a[-i][i-1:-i+1] = chunks[bot][::-1]\n",
    "            bot+=4\n",
    "\n",
    "    #Right triangle\n",
    "    right = 1\n",
    "    column_index = -1\n",
    "\n",
    "    for _ in range(nechet_central_index):\n",
    "        for i in range(column_index*(-1),len(a)+column_index):\n",
    "            a[i][column_index] = chunks[right][i+column_index]\n",
    "        column_index -= 1\n",
    "        right +=4\n",
    "\n",
    "    #Left triangle\n",
    "    left = 3\n",
    "    column_index = 0\n",
    "    c_i = column_index + 1\n",
    "\n",
    "    for _ in range(nechet_central_index):\n",
    "        for i in range(c_i,len(a)- c_i):\n",
    "            a[i][column_index] = chunks[left][::-1][i-c_i]\n",
    "        column_index += 1\n",
    "        c_i += 1\n",
    "        left +=4\n",
    "\n",
    "    # print(tabulate(a, tablefmt=\"grid\"))\n",
    "\n",
    "    for row in a:\n",
    "        print(*row)"
   ]
  },
  {
   "cell_type": "code",
   "execution_count": 15,
   "id": "e6c0eb9d",
   "metadata": {},
   "outputs": [
    {
     "name": "stdout",
     "output_type": "stream",
     "text": [
      "1 2 3 4 5\n",
      "16 17 18 19 6\n",
      "15 24 25 20 7\n",
      "14 23 22 21 8\n",
      "13 12 11 10 9\n"
     ]
    }
   ],
   "source": [
    "for row in a:\n",
    "    print(*row)"
   ]
  },
  {
   "cell_type": "code",
   "execution_count": 27,
   "id": "064cc474",
   "metadata": {},
   "outputs": [
    {
     "ename": "KeyboardInterrupt",
     "evalue": "Interrupted by user",
     "output_type": "error",
     "traceback": [
      "\u001b[1;31m---------------------------------------------------------------------------\u001b[0m",
      "\u001b[1;31mKeyboardInterrupt\u001b[0m                         Traceback (most recent call last)",
      "\u001b[1;32m~\\AppData\\Local\\Temp/ipykernel_22488/3484255132.py\u001b[0m in \u001b[0;36m<module>\u001b[1;34m\u001b[0m\n\u001b[1;32m----> 1\u001b[1;33m \u001b[0mn\u001b[0m\u001b[1;33m=\u001b[0m\u001b[0mint\u001b[0m\u001b[1;33m(\u001b[0m\u001b[0minput\u001b[0m\u001b[1;33m(\u001b[0m\u001b[1;33m)\u001b[0m\u001b[1;33m)\u001b[0m\u001b[1;33m\u001b[0m\u001b[1;33m\u001b[0m\u001b[0m\n\u001b[0m\u001b[0;32m      2\u001b[0m \u001b[0mt\u001b[0m\u001b[1;33m=\u001b[0m\u001b[1;33m[\u001b[0m\u001b[1;33m[\u001b[0m\u001b[1;36m0\u001b[0m\u001b[1;33m]\u001b[0m\u001b[1;33m*\u001b[0m\u001b[0mn\u001b[0m \u001b[1;32mfor\u001b[0m \u001b[0mi\u001b[0m \u001b[1;32min\u001b[0m \u001b[0mrange\u001b[0m \u001b[1;33m(\u001b[0m\u001b[0mn\u001b[0m\u001b[1;33m)\u001b[0m\u001b[1;33m]\u001b[0m\u001b[1;33m\u001b[0m\u001b[1;33m\u001b[0m\u001b[0m\n\u001b[0;32m      3\u001b[0m \u001b[0mi\u001b[0m\u001b[1;33m,\u001b[0m\u001b[0mj\u001b[0m\u001b[1;33m=\u001b[0m\u001b[1;36m0\u001b[0m\u001b[1;33m,\u001b[0m\u001b[1;36m0\u001b[0m\u001b[1;33m\u001b[0m\u001b[1;33m\u001b[0m\u001b[0m\n\u001b[0;32m      4\u001b[0m \u001b[1;32mfor\u001b[0m \u001b[0mk\u001b[0m \u001b[1;32min\u001b[0m \u001b[0mrange\u001b[0m\u001b[1;33m(\u001b[0m\u001b[1;36m1\u001b[0m\u001b[1;33m,\u001b[0m \u001b[0mn\u001b[0m\u001b[1;33m*\u001b[0m\u001b[0mn\u001b[0m\u001b[1;33m+\u001b[0m\u001b[1;36m1\u001b[0m\u001b[1;33m)\u001b[0m\u001b[1;33m:\u001b[0m\u001b[1;33m\u001b[0m\u001b[1;33m\u001b[0m\u001b[0m\n\u001b[0;32m      5\u001b[0m   \u001b[0mt\u001b[0m\u001b[1;33m[\u001b[0m\u001b[0mi\u001b[0m\u001b[1;33m]\u001b[0m\u001b[1;33m[\u001b[0m\u001b[0mj\u001b[0m\u001b[1;33m]\u001b[0m\u001b[1;33m=\u001b[0m\u001b[0mk\u001b[0m\u001b[1;33m\u001b[0m\u001b[1;33m\u001b[0m\u001b[0m\n",
      "\u001b[1;32m~\\anaconda3\\lib\\site-packages\\ipykernel\\kernelbase.py\u001b[0m in \u001b[0;36mraw_input\u001b[1;34m(self, prompt)\u001b[0m\n\u001b[0;32m   1004\u001b[0m                 \u001b[1;34m\"raw_input was called, but this frontend does not support input requests.\"\u001b[0m\u001b[1;33m\u001b[0m\u001b[1;33m\u001b[0m\u001b[0m\n\u001b[0;32m   1005\u001b[0m             )\n\u001b[1;32m-> 1006\u001b[1;33m         return self._input_request(\n\u001b[0m\u001b[0;32m   1007\u001b[0m             \u001b[0mstr\u001b[0m\u001b[1;33m(\u001b[0m\u001b[0mprompt\u001b[0m\u001b[1;33m)\u001b[0m\u001b[1;33m,\u001b[0m\u001b[1;33m\u001b[0m\u001b[1;33m\u001b[0m\u001b[0m\n\u001b[0;32m   1008\u001b[0m             \u001b[0mself\u001b[0m\u001b[1;33m.\u001b[0m\u001b[0m_parent_ident\u001b[0m\u001b[1;33m[\u001b[0m\u001b[1;34m\"shell\"\u001b[0m\u001b[1;33m]\u001b[0m\u001b[1;33m,\u001b[0m\u001b[1;33m\u001b[0m\u001b[1;33m\u001b[0m\u001b[0m\n",
      "\u001b[1;32m~\\anaconda3\\lib\\site-packages\\ipykernel\\kernelbase.py\u001b[0m in \u001b[0;36m_input_request\u001b[1;34m(self, prompt, ident, parent, password)\u001b[0m\n\u001b[0;32m   1049\u001b[0m             \u001b[1;32mexcept\u001b[0m \u001b[0mKeyboardInterrupt\u001b[0m\u001b[1;33m:\u001b[0m\u001b[1;33m\u001b[0m\u001b[1;33m\u001b[0m\u001b[0m\n\u001b[0;32m   1050\u001b[0m                 \u001b[1;31m# re-raise KeyboardInterrupt, to truncate traceback\u001b[0m\u001b[1;33m\u001b[0m\u001b[1;33m\u001b[0m\u001b[0m\n\u001b[1;32m-> 1051\u001b[1;33m                 \u001b[1;32mraise\u001b[0m \u001b[0mKeyboardInterrupt\u001b[0m\u001b[1;33m(\u001b[0m\u001b[1;34m\"Interrupted by user\"\u001b[0m\u001b[1;33m)\u001b[0m \u001b[1;32mfrom\u001b[0m \u001b[1;32mNone\u001b[0m\u001b[1;33m\u001b[0m\u001b[1;33m\u001b[0m\u001b[0m\n\u001b[0m\u001b[0;32m   1052\u001b[0m             \u001b[1;32mexcept\u001b[0m \u001b[0mException\u001b[0m\u001b[1;33m:\u001b[0m\u001b[1;33m\u001b[0m\u001b[1;33m\u001b[0m\u001b[0m\n\u001b[0;32m   1053\u001b[0m                 \u001b[0mself\u001b[0m\u001b[1;33m.\u001b[0m\u001b[0mlog\u001b[0m\u001b[1;33m.\u001b[0m\u001b[0mwarning\u001b[0m\u001b[1;33m(\u001b[0m\u001b[1;34m\"Invalid Message:\"\u001b[0m\u001b[1;33m,\u001b[0m \u001b[0mexc_info\u001b[0m\u001b[1;33m=\u001b[0m\u001b[1;32mTrue\u001b[0m\u001b[1;33m)\u001b[0m\u001b[1;33m\u001b[0m\u001b[1;33m\u001b[0m\u001b[0m\n",
      "\u001b[1;31mKeyboardInterrupt\u001b[0m: Interrupted by user"
     ]
    }
   ],
   "source": [
    "n=int(input())\n",
    "t=[[0]*n for i in range (n)]\n",
    "i,j=0,0\n",
    "for k in range(1, n*n+1):\n",
    "  t[i][j]=k\n",
    "  if k==n*n: break\n",
    "  if i<=j+1 and i+j<n-1: j+=1\n",
    "  elif i<j and i+j>=n-1: i+=1\n",
    "  elif i>=j and i+j>n-1: j-=1\n",
    "  elif i>j+1 and i+j<=n-1: i-=1\n",
    "for i in range(n):\n",
    "  print(*t[i])"
   ]
  },
  {
   "cell_type": "code",
   "execution_count": 30,
   "id": "d16c8a54",
   "metadata": {},
   "outputs": [
    {
     "name": "stdout",
     "output_type": "stream",
     "text": [
      "5\n",
      "1\n",
      "2\n",
      "3\n",
      "4\n",
      "5\n",
      "6\n",
      "7\n",
      "8\n",
      "9\n",
      "10\n",
      "11\n",
      "12\n",
      "13\n",
      "14\n",
      "15\n",
      "16\n",
      "17\n",
      "18\n",
      "19\n",
      "20\n",
      "21\n",
      "22\n",
      "23\n",
      "24\n",
      "25\n"
     ]
    }
   ],
   "source": [
    "n=int(input())\n",
    "t=[[0]*n for i in range (n)]\n",
    "i,j=0,0\n",
    "for k in range(1, n*n+1):\n",
    "    print(k)\n",
    "    t[i][j] = k"
   ]
  },
  {
   "cell_type": "code",
   "execution_count": 31,
   "id": "4312d73a",
   "metadata": {},
   "outputs": [
    {
     "data": {
      "text/plain": [
       "0"
      ]
     },
     "execution_count": 31,
     "metadata": {},
     "output_type": "execute_result"
    }
   ],
   "source": [
    "t[1][0]"
   ]
  }
 ],
 "metadata": {
  "kernelspec": {
   "display_name": "Python 3 (ipykernel)",
   "language": "python",
   "name": "python3"
  },
  "language_info": {
   "codemirror_mode": {
    "name": "ipython",
    "version": 3
   },
   "file_extension": ".py",
   "mimetype": "text/x-python",
   "name": "python",
   "nbconvert_exporter": "python",
   "pygments_lexer": "ipython3",
   "version": "3.9.7"
  }
 },
 "nbformat": 4,
 "nbformat_minor": 5
}
